{
 "cells": [
  {
   "cell_type": "markdown",
   "id": "9c031887-83ff-4747-a859-ed762b92af00",
   "metadata": {
    "tags": []
   },
   "source": [
    "# Publicação do projeto usando Streamlit e Github\n",
    "\n",
    "Existem diversas formas de publicar e distribuir projetos Python. Uma forma simples de publicar aplicação web é via Streamlit, usando o Github como repositório do projeto."
   ]
  },
  {
   "cell_type": "markdown",
   "id": "7be53b11-2152-455d-815a-e5cd408db4a7",
   "metadata": {
    "jp-MarkdownHeadingCollapsed": true,
    "tags": []
   },
   "source": [
    "## Utilizando o Github"
   ]
  },
  {
   "cell_type": "markdown",
   "id": "6bd3c8f1-0f4b-4a6a-9765-124beb765ead",
   "metadata": {},
   "source": [
    "\n",
    "Caso ainda não tenha, é importante realizar cadastro no Github (https://github.com/). Será útil como portfólio de projetos digitais, além de repositório para projetos web.\n",
    "Após criação de conta, crie o repositório novo que será utilizado no projeto streamlit."
   ]
  },
  {
   "cell_type": "markdown",
   "id": "ab2144f2-effa-4bb1-a117-1663de6ee2c7",
   "metadata": {
    "tags": []
   },
   "source": [
    "## Utilizando o Streamlit"
   ]
  },
  {
   "cell_type": "markdown",
   "id": "4bad0cc4-7b25-41dd-829f-ba1c491a598e",
   "metadata": {},
   "source": [
    "O Streamlit é um framework desenvolvido em Python que torna possível a criação de aplicativos elegantes para modelos de machine learning (aprendizagem de máquina) ou mesmo visualização de dados para uma simples análise exploratória de um dataset (conjunto de dados), além de possuir de forma nativa HTML e JavaScript, desta forma não é necessário saber programar nessas linguagens.\n",
    "\n",
    "Site oficial: https://streamlit.io/\n",
    "\n",
    "Ele permite utilizar o Github como repositório dos arquivos do projeto. \n"
   ]
  },
  {
   "cell_type": "markdown",
   "id": "7e0a2dbf-eed4-45ff-8c16-8a806f4ae71e",
   "metadata": {},
   "source": [
    "### Customizações no projeto para publicação\n",
    "\n",
    "Obrigatório: O projeto não pode ser publicado em formato notebook (.ipynb), mas deverá ser salvo em formato python (.py), arquivo composto somente pelos campos código, sem markdown.\n",
    "\n",
    "Importante: Um princípio do streamlit é de que todos os objetos apresentados na tela (web) serão apresentados por meio do pacote streamlit (st), por isto, sempre que precisar printar/apresentar algo, utilizaremos o objeto st\n",
    "\n",
    "**Para inclusão de título na barra do navegador** <br>\n",
    "st.set_page_config( <br>\n",
    "    \n",
    "    page_title=\"Título da página\", <br>\n",
    "    page_icon=\"👋\", <br>\n",
    ")\n",
    "\n",
    "\n",
    "**Criação de cabeçalho** <br>\n",
    "st.header(\"Título do cabeçalho\")\n",
    "st.subheader(\"Título do cabeçalho\") \n",
    "\n",
    "\n",
    "**Apresentação de campo com código** <br>\n",
    "code = ''' <br>\n",
    "\n",
    "    código que será apresentado <br>\n",
    "''' <br>\n",
    "st.code(code, language='python')\n",
    "\n",
    "\n",
    "**Apresentar dataframe com st no lugar do print** <br>\n",
    "df = pd.read_csv(\"Endereço do arquivo no Github\", sep=\";\") <br>\n",
    "(Para descobrir o link do arquivo, abra ele no `Git` e clique em `Raw`) <br> \n",
    "st.dataframe(df)\n",
    "\n",
    "\n",
    "**Apresentar texto na tela com st no lugar do print** <br>\n",
    "st.write(\"Texto\")\n",
    "\n",
    "\n",
    "**Utilizar botão/checkbox para deixar ao leitor a escolha de apresentar o dataframe** <br>\n",
    "if st.checkbox('Mostrar dataframe'): <br>\n",
    "    \n",
    "    st.dataframe(df) \n",
    "\n",
    "\n",
    "**Apresentar gráfico usando st** <br>\n",
    "fig, ax = plt.subplots() <br>\n",
    "df.plot() <br>\n",
    "st.pyplot(fig)"
   ]
  },
  {
   "cell_type": "markdown",
   "id": "b9b7b464-8d4b-4e13-b4ad-4b792c393c06",
   "metadata": {},
   "source": [
    "### Exemplos de aplicação"
   ]
  },
  {
   "cell_type": "markdown",
   "id": "333c0003-e4af-41d1-942c-cb8ea3fb984b",
   "metadata": {},
   "source": [
    "Projeto: Lista de Exercícios 3 <br>\n",
    "Repositório: https://github.com/WesleyInfoBr2/streamlit_Lista3 <br>\n",
    "Acesso Streamlit: https://applista3-dubhiahiea5pgxtnknneso.streamlit.app/"
   ]
  },
  {
   "cell_type": "markdown",
   "id": "6b6734f7-7462-4c19-a0aa-196c7795314e",
   "metadata": {},
   "source": [
    "Projeto: ExemploApp (não foi criado por mim) <br>\n",
    "Repositório: https://github.com/WesleyInfoBr2/ExemploApp <br>\n",
    "Acesso Streamlit: https://exemploapp-ymmgpmgtgsdu3mqewgwq7q.streamlit.app/Exemplo_DataFrame"
   ]
  },
  {
   "cell_type": "markdown",
   "id": "969e53d4-34e4-42e1-a101-1e21ae5546f6",
   "metadata": {
    "jp-MarkdownHeadingCollapsed": true,
    "tags": []
   },
   "source": [
    "## Desafio: Utilize a análise abaixo para criar um projeto .py e publique utilizando Streamlit e Github"
   ]
  },
  {
   "cell_type": "markdown",
   "id": "4dcedd39-299d-4751-9a4d-18d9ca80575d",
   "metadata": {},
   "source": [
    "Exercício 1 - Leia o arquivo empresa1.csv e apresente os resultados 3 primeiros resultados da tabela usando o método head()\n",
    "- Exigência: deve utilizar o pacote pandas"
   ]
  },
  {
   "cell_type": "code",
   "execution_count": 100,
   "id": "461c4694-eeec-42d3-9dc5-a4e28a32470a",
   "metadata": {},
   "outputs": [
    {
     "data": {
      "text/html": [
       "<div>\n",
       "<style scoped>\n",
       "    .dataframe tbody tr th:only-of-type {\n",
       "        vertical-align: middle;\n",
       "    }\n",
       "\n",
       "    .dataframe tbody tr th {\n",
       "        vertical-align: top;\n",
       "    }\n",
       "\n",
       "    .dataframe thead th {\n",
       "        text-align: right;\n",
       "    }\n",
       "</style>\n",
       "<table border=\"1\" class=\"dataframe\">\n",
       "  <thead>\n",
       "    <tr style=\"text-align: right;\">\n",
       "      <th></th>\n",
       "      <th>Ano</th>\n",
       "      <th>Semestre</th>\n",
       "      <th>Receita em vendas</th>\n",
       "      <th>Custos e despesas</th>\n",
       "      <th>EBITDA</th>\n",
       "      <th>Depreciação</th>\n",
       "      <th>EBIT</th>\n",
       "      <th>Despesas líquidas</th>\n",
       "      <th>Lucro operacional</th>\n",
       "      <th>Impostos</th>\n",
       "      <th>Lucro do período</th>\n",
       "    </tr>\n",
       "  </thead>\n",
       "  <tbody>\n",
       "    <tr>\n",
       "      <th>0</th>\n",
       "      <td>2019</td>\n",
       "      <td>1</td>\n",
       "      <td>46105521</td>\n",
       "      <td>36325232</td>\n",
       "      <td>9780290</td>\n",
       "      <td>1082820</td>\n",
       "      <td>8697469</td>\n",
       "      <td>233028</td>\n",
       "      <td>8464441</td>\n",
       "      <td>2233824</td>\n",
       "      <td>6230618</td>\n",
       "    </tr>\n",
       "    <tr>\n",
       "      <th>1</th>\n",
       "      <td>2019</td>\n",
       "      <td>2</td>\n",
       "      <td>55039697</td>\n",
       "      <td>41645335</td>\n",
       "      <td>13394363</td>\n",
       "      <td>1199538</td>\n",
       "      <td>12194824</td>\n",
       "      <td>653617</td>\n",
       "      <td>11541207</td>\n",
       "      <td>2471743</td>\n",
       "      <td>9069463</td>\n",
       "    </tr>\n",
       "    <tr>\n",
       "      <th>2</th>\n",
       "      <td>2020</td>\n",
       "      <td>1</td>\n",
       "      <td>58249666</td>\n",
       "      <td>40607630</td>\n",
       "      <td>17642037</td>\n",
       "      <td>1087285</td>\n",
       "      <td>16554752</td>\n",
       "      <td>1345205</td>\n",
       "      <td>15209547</td>\n",
       "      <td>3256681</td>\n",
       "      <td>11952866</td>\n",
       "    </tr>\n",
       "  </tbody>\n",
       "</table>\n",
       "</div>"
      ],
      "text/plain": [
       "    Ano  Semestre  Receita em vendas  Custos e despesas    EBITDA  \\\n",
       "0  2019         1           46105521           36325232   9780290   \n",
       "1  2019         2           55039697           41645335  13394363   \n",
       "2  2020         1           58249666           40607630  17642037   \n",
       "\n",
       "   Depreciação      EBIT  Despesas líquidas  Lucro operacional  Impostos  \\\n",
       "0      1082820   8697469             233028            8464441   2233824   \n",
       "1      1199538  12194824             653617           11541207   2471743   \n",
       "2      1087285  16554752            1345205           15209547   3256681   \n",
       "\n",
       "   Lucro do período  \n",
       "0           6230618  \n",
       "1           9069463  \n",
       "2          11952866  "
      ]
     },
     "execution_count": 100,
     "metadata": {},
     "output_type": "execute_result"
    }
   ],
   "source": [
    "import pandas as pd  \n",
    "\n",
    "arquivo = \"empresa1.csv\" \n",
    "dfe = pd.read_csv(arquivo, sep=';') \n",
    "dfe.head(3) "
   ]
  },
  {
   "cell_type": "markdown",
   "id": "53ea9469-c62d-44e5-b6df-3474a9c687fc",
   "metadata": {},
   "source": [
    "Exercício 2 - Apresente os dados do dataframe utilizando gráficos. Crie um gráfico de linha, simples, que apresente todos os indicadores ao longo do tempo. Crie um gráfico de dispersão para ajudar na relação entre EBITDA e Lucro operacional. Crie um histograma do Lucro do período. "
   ]
  },
  {
   "cell_type": "code",
   "execution_count": 103,
   "id": "588a5053-2bb6-4fe5-9777-f96f37b25674",
   "metadata": {},
   "outputs": [
    {
     "data": {
      "image/png": "[encoded data removed]",
      "text/plain": [
       "<Figure size 640x480 with 1 Axes>"
      ]
     },
     "metadata": {},
     "output_type": "display_data"
    }
   ],
   "source": [
    "import matplotlib.pyplot as plt\n",
    "\n",
    "dfe.plot()\n",
    "plt.show()"
   ]
  },
  {
   "cell_type": "code",
   "execution_count": 104,
   "id": "a0f87072-43ed-4b06-9686-9a411fee20be",
   "metadata": {},
   "outputs": [
    {
     "data": {
      "image/png": "[encoded data removed]",
      "text/plain": [
       "<Figure size 640x480 with 1 Axes>"
      ]
     },
     "metadata": {},
     "output_type": "display_data"
    }
   ],
   "source": [
    "dfe.plot(kind = 'scatter', x = 'EBITDA', y = 'Lucro operacional')\n",
    "plt.show()"
   ]
  },
  {
   "cell_type": "code",
   "execution_count": 105,
   "id": "3ca3c234-5618-45a0-ab84-41ae5e491b14",
   "metadata": {},
   "outputs": [
    {
     "data": {
      "text/plain": [
       "<Axes: ylabel='Frequency'>"
      ]
     },
     "execution_count": 105,
     "metadata": {},
     "output_type": "execute_result"
    },
    {
     "data": {
      "image/png": "[encoded data removed]",
      "text/plain": [
       "<Figure size 640x480 with 1 Axes>"
      ]
     },
     "metadata": {},
     "output_type": "display_data"
    }
   ],
   "source": [
    "dfe[\"Lucro do período\"].plot(kind = 'hist')"
   ]
  },
  {
   "cell_type": "markdown",
   "id": "e09070bc-51ff-418f-af7a-4df6dcf7faa9",
   "metadata": {},
   "source": [
    "Exercício 3 - Agrupe a base acima por ano, em um novo dataframe, e apresente a soma das demais colunas"
   ]
  },
  {
   "cell_type": "code",
   "execution_count": 73,
   "id": "d94555b8-9cdf-4650-95c8-a84dd8d57ad5",
   "metadata": {},
   "outputs": [
    {
     "data": {
      "text/html": [
       "<div>\n",
       "<style scoped>\n",
       "    .dataframe tbody tr th:only-of-type {\n",
       "        vertical-align: middle;\n",
       "    }\n",
       "\n",
       "    .dataframe tbody tr th {\n",
       "        vertical-align: top;\n",
       "    }\n",
       "\n",
       "    .dataframe thead th {\n",
       "        text-align: right;\n",
       "    }\n",
       "</style>\n",
       "<table border=\"1\" class=\"dataframe\">\n",
       "  <thead>\n",
       "    <tr style=\"text-align: right;\">\n",
       "      <th></th>\n",
       "      <th>Semestre</th>\n",
       "      <th>Receita em vendas</th>\n",
       "      <th>Custos e despesas</th>\n",
       "      <th>EBITDA</th>\n",
       "      <th>Depreciação</th>\n",
       "      <th>EBIT</th>\n",
       "      <th>Despesas líquidas</th>\n",
       "      <th>Lucro operacional</th>\n",
       "      <th>Impostos</th>\n",
       "      <th>Lucro do período</th>\n",
       "    </tr>\n",
       "    <tr>\n",
       "      <th>Ano</th>\n",
       "      <th></th>\n",
       "      <th></th>\n",
       "      <th></th>\n",
       "      <th></th>\n",
       "      <th></th>\n",
       "      <th></th>\n",
       "      <th></th>\n",
       "      <th></th>\n",
       "      <th></th>\n",
       "      <th></th>\n",
       "    </tr>\n",
       "  </thead>\n",
       "  <tbody>\n",
       "    <tr>\n",
       "      <th>2019</th>\n",
       "      <td>1.5</td>\n",
       "      <td>50572609.0</td>\n",
       "      <td>38985283.5</td>\n",
       "      <td>11587326.5</td>\n",
       "      <td>1141179.0</td>\n",
       "      <td>10446146.5</td>\n",
       "      <td>443322.5</td>\n",
       "      <td>10002824.0</td>\n",
       "      <td>2352783.5</td>\n",
       "      <td>7650040.5</td>\n",
       "    </tr>\n",
       "    <tr>\n",
       "      <th>2020</th>\n",
       "      <td>1.5</td>\n",
       "      <td>73228333.5</td>\n",
       "      <td>54059082.5</td>\n",
       "      <td>19169251.0</td>\n",
       "      <td>1042820.5</td>\n",
       "      <td>18126430.5</td>\n",
       "      <td>1622377.5</td>\n",
       "      <td>16504053.0</td>\n",
       "      <td>3497143.5</td>\n",
       "      <td>13006909.5</td>\n",
       "    </tr>\n",
       "    <tr>\n",
       "      <th>2021</th>\n",
       "      <td>1.0</td>\n",
       "      <td>87996404.0</td>\n",
       "      <td>65262485.0</td>\n",
       "      <td>22733919.0</td>\n",
       "      <td>928220.0</td>\n",
       "      <td>21805698.0</td>\n",
       "      <td>1797725.0</td>\n",
       "      <td>20007973.0</td>\n",
       "      <td>4148151.0</td>\n",
       "      <td>15859822.0</td>\n",
       "    </tr>\n",
       "  </tbody>\n",
       "</table>\n",
       "</div>"
      ],
      "text/plain": [
       "      Semestre  Receita em vendas  Custos e despesas      EBITDA  Depreciação  \\\n",
       "Ano                                                                             \n",
       "2019       1.5         50572609.0         38985283.5  11587326.5    1141179.0   \n",
       "2020       1.5         73228333.5         54059082.5  19169251.0    1042820.5   \n",
       "2021       1.0         87996404.0         65262485.0  22733919.0     928220.0   \n",
       "\n",
       "            EBIT  Despesas líquidas  Lucro operacional   Impostos  \\\n",
       "Ano                                                                 \n",
       "2019  10446146.5           443322.5         10002824.0  2352783.5   \n",
       "2020  18126430.5          1622377.5         16504053.0  3497143.5   \n",
       "2021  21805698.0          1797725.0         20007973.0  4148151.0   \n",
       "\n",
       "      Lucro do período  \n",
       "Ano                     \n",
       "2019         7650040.5  \n",
       "2020        13006909.5  \n",
       "2021        15859822.0  "
      ]
     },
     "execution_count": 73,
     "metadata": {},
     "output_type": "execute_result"
    }
   ],
   "source": [
    "dfe.groupby('Ano').mean()"
   ]
  },
  {
   "cell_type": "code",
   "execution_count": null,
   "id": "3f85d7e5-b415-413d-ba4d-1bc0fe2d2555",
   "metadata": {},
   "outputs": [],
   "source": []
  }
 ],
 "metadata": {
  "kernelspec": {
   "display_name": "Python 3 (ipykernel)",
   "language": "python",
   "name": "python3"
  },
  "language_info": {
   "codemirror_mode": {
    "name": "ipython",
    "version": 3
   },
   "file_extension": ".py",
   "mimetype": "text/x-python",
   "name": "python",
   "nbconvert_exporter": "python",
   "pygments_lexer": "ipython3",
   "version": "3.9.16"
  }
 },
 "nbformat": 4,
 "nbformat_minor": 5
}
